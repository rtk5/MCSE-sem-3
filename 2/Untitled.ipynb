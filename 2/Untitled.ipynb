{
 "cells": [
  {
   "cell_type": "code",
   "execution_count": 4,
   "id": "e2f0faf9-62d0-4878-ae72-efe4b788be84",
   "metadata": {},
   "outputs": [
    {
     "name": "stdout",
     "output_type": "stream",
     "text": [
      "Modified dataset saved to Titanic_modified.csv\n"
     ]
    }
   ],
   "source": [
    "import pandas as pd\n",
    "import numpy as np\n",
    " \n",
    "# Load the Titanic dataset\n",
    "file_path = 'Titanic.csv'\n",
    "df = pd.read_csv(file_path)\n",
    " \n",
    "# 1. Introduce Missing Values\n",
    "df.loc[df.sample(frac=0.1).index, 'Age'] = np.nan\n",
    "df.loc[df.sample(frac=0.1).index, 'Embarked'] = np.nan\n",
    " \n",
    "# 2. Introduce Duplicates\n",
    "duplicates = df.sample(frac=0.05)\n",
    "df = pd.concat([df, duplicates], ignore_index=True)\n",
    " \n",
    "# 3. Introduce Outliers\n",
    "num_outliers = 10\n",
    "outliers = pd.DataFrame({\n",
    "    'PassengerId': np.arange(df['PassengerId'].max() + 1, df['PassengerId'].max() + 1 + num_outliers),\n",
    "    'Pclass': np.random.choice([1, 2, 3], num_outliers),\n",
    "    'Name': ['Outlier'] * num_outliers,\n",
    "    'Sex': np.random.choice(['male', 'female'], num_outliers),\n",
    "    'Age': np.random.uniform(0, 100, num_outliers),\n",
    "    'SibSp': np.random.randint(0, 5, num_outliers),\n",
    "    'Parch': np.random.randint(0, 5, num_outliers),\n",
    "    'Ticket': ['XXX'] * num_outliers,\n",
    "    'Fare': np.random.uniform(500, 1000, num_outliers),\n",
    "    'Cabin': ['Z'] * num_outliers,\n",
    "    'Embarked': np.random.choice(['C', 'Q', 'S'], num_outliers),\n",
    "    'Survived': np.random.choice([0, 1], num_outliers)\n",
    "})\n",
    "df = pd.concat([df, outliers], ignore_index=True)\n",
    " \n",
    "# 4. Introduce Inconsistent Data\n",
    "df.loc[df.sample(frac=0.05).index, 'Name'] = df['Name'].str.upper()\n",
    "df.loc[df.sample(frac=0.05).index, 'Name'] = df['Name'].apply(lambda x: '   ' + x + '   ')\n",
    "df.loc[df.sample(frac=0.05).index, 'Embarked'] = df['Embarked'].apply(lambda x: 'X' if x in ['C', 'Q', 'S'] else x)\n",
    " \n",
    "# Save the modified dataset\n",
    "modified_file_path = 'Titanic_modified.csv'\n",
    "df.to_csv(modified_file_path, index=False)\n",
    " \n",
    "print(f\"Modified dataset saved to {modified_file_path}\")"
   ]
  },
  {
   "cell_type": "code",
   "execution_count": null,
   "id": "010e10f9-fa62-49a4-b561-16a0382c914d",
   "metadata": {},
   "outputs": [],
   "source": []
  }
 ],
 "metadata": {
  "kernelspec": {
   "display_name": "Python 3 (ipykernel)",
   "language": "python",
   "name": "python3"
  },
  "language_info": {
   "codemirror_mode": {
    "name": "ipython",
    "version": 3
   },
   "file_extension": ".py",
   "mimetype": "text/x-python",
   "name": "python",
   "nbconvert_exporter": "python",
   "pygments_lexer": "ipython3",
   "version": "3.11.2"
  }
 },
 "nbformat": 4,
 "nbformat_minor": 5
}
